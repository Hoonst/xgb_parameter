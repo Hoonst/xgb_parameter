{
 "cells": [
  {
   "cell_type": "code",
   "execution_count": 1,
   "metadata": {},
   "outputs": [
    {
     "name": "stderr",
     "output_type": "stream",
     "text": [
      "/home/lee/.pyenv/versions/xgb/lib/python3.7/site-packages/pandas/compat/__init__.py:120: UserWarning: Could not import the lzma module. Your installed Python is incomplete. Attempting to use lzma compression will result in a RuntimeError.\n",
      "  warnings.warn(msg)\n"
     ]
    }
   ],
   "source": [
    "import pandas as pd\n",
    "from sklearn.model_selection import train_test_split\n",
    "from sklearn.preprocessing import LabelEncoder\n",
    "from sklearn.metrics import mean_squared_error\n",
    "from sklearn.metrics import roc_auc_score\n",
    "\n",
    "labelencoder = LabelEncoder()\n",
    "\n",
    "import xgboost as xgb\n",
    "\n",
    "import hyperopt\n",
    "from hyperopt import tpe, hp, fmin, Trials, STATUS_OK, STATUS_FAIL, space_eval\n",
    "import numpy as np"
   ]
  },
  {
   "cell_type": "code",
   "execution_count": 2,
   "metadata": {},
   "outputs": [],
   "source": [
    "higgs_boson = pd.read_csv(\"dataset/training.csv\")\n",
    "higgs_boson = higgs_boson.drop(['Weight'], axis=1)\n",
    "higgs_boson = higgs_boson[:100000]"
   ]
  },
  {
   "cell_type": "code",
   "execution_count": 3,
   "metadata": {},
   "outputs": [],
   "source": [
    "higgs_boson['Label'] = labelencoder.fit_transform(higgs_boson['Label'])\n",
    "\n",
    "X, y= higgs_boson[higgs_boson.columns[1:31]], higgs_boson[higgs_boson.columns[-1]]"
   ]
  },
  {
   "cell_type": "code",
   "execution_count": 4,
   "metadata": {},
   "outputs": [],
   "source": [
    "x_train, x_test, y_train, y_test = train_test_split(X, y, test_size=0.2, random_state = 1)\n",
    "\n",
    "dtrain = xgb.DMatrix(x_train,label=y_train)\n",
    "dtest = xgb.DMatrix(x_test, label=y_test)"
   ]
  },
  {
   "cell_type": "code",
   "execution_count": 5,
   "metadata": {},
   "outputs": [],
   "source": [
    "xgb_cla_params = {\n",
    "    'tree_method':      'gpu_hist',\n",
    "    'booster':          hp.choice('booster_classification', ['gbtree', 'dart']),\n",
    "    'learning_rate':    hp.choice('learning_rate_classification',    np.arange(0.05, 0.31, 0.05)),\n",
    "    'max_depth':        hp.choice('max_depth_classification',        np.arange(5, 16, 1, dtype=int)),\n",
    "    'min_child_weight': hp.choice('min_child_weight_classification', np.arange(1, 8, 1, dtype=int)),\n",
    "    'colsample_bytree': hp.choice('colsample_bytree_classification', np.arange(0.3, 0.8, 0.1)),\n",
    "    'colsample_bylevel':hp.choice('colsample_bylevel_classification', np.arange(0.3, 0.8, 0.1)),\n",
    "    'colsample_bynode': hp.choice('colsample_bynode_classification', np.arange(0.3, 0.8, 0.1)),\n",
    "    'subsample':        hp.uniform('subsample_classification', 0.5, 1),\n",
    "    'sampling_method':  hp.choice('sampling_method_classification', ['uniform', 'gradient_based']),\n",
    "    'n_estimators':     30,\n",
    "    'objective':        'binary:logistic',\n",
    "}\n",
    "\n",
    "xgb_cv_params = {\n",
    "    'tree_method':      'gpu_hist',\n",
    "    'booster':          hp.choice('booster_cv', ['gbtree', 'dart']),\n",
    "    'learning_rate':    hp.choice('learning_rate_cv',    np.arange(0.05, 0.31, 0.05)),\n",
    "    'max_depth':        hp.choice('max_depth_cv',        np.arange(5, 16, 1, dtype=int)),\n",
    "    'min_child_weight': hp.choice('min_child_weight_cv', np.arange(1, 8, 1, dtype=int)),\n",
    "    'colsample_bytree': hp.choice('colsample_bytree_cv', np.arange(0.3, 0.8, 0.1)),\n",
    "    'colsample_bylevel':hp.choice('colsample_bylevel_cv', np.arange(0.3, 0.8, 0.1)),\n",
    "    'colsample_bynode': hp.choice('colsample_bynode_cv', np.arange(0.3, 0.8, 0.1)),\n",
    "    'subsample':        hp.uniform('subsample_cv', 0.5, 1),\n",
    "    'sampling_method':  hp.choice('sampling_method_cv', ['uniform', 'gradient_based']),\n",
    "    'objective':        'binary:logistic',\n",
    "}\n",
    "\n",
    "xgb_fit_params = { \n",
    "    'eval_metric': 'auc',\n",
    "    'early_stopping_rounds': 10,\n",
    "    'verbose': False \n",
    "}\n",
    "\n",
    "xgb_para = dict()\n",
    "xgb_para['cla_params'] = xgb_cla_params\n",
    "xgb_para['cv_params'] = xgb_cv_params\n",
    "xgb_para['fit_params'] = xgb_fit_params\n",
    "xgb_para['loss_func'] =  lambda y, pred: roc_auc_score(y, pred)"
   ]
  },
  {
   "cell_type": "code",
   "execution_count": 6,
   "metadata": {},
   "outputs": [],
   "source": [
    "class HPOpt(object):\n",
    "    def __init__(self, x_train, x_test, y_train, y_test):\n",
    "        self.x_train = x_train\n",
    "        self.x_test  = x_test\n",
    "        self.y_train = y_train\n",
    "        self.y_test  = y_test\n",
    "        \n",
    "        self.dtrain = xgb.DMatrix(x_train,label=y_train)\n",
    "        self.dtest = xgb.DMatrix(x_test, label=y_test)\n",
    "\n",
    "    def process(self, fn_name, space, trials, algo, max_evals):\n",
    "        fn = getattr(self, fn_name)\n",
    "#         try:\n",
    "        result = fmin(fn=fn, space=space, algo=algo, max_evals=max_evals, trials=trials)\n",
    "#         except Exception as e:\n",
    "#             print(e)\n",
    "#             return {'status': STATUS_FAIL,\n",
    "#                     'exception': str(e)}\n",
    "        return result, trials\n",
    "    \n",
    "    def xgb_test(self, optimal, para):\n",
    "        cla = xgb.XGBClassifier(**optimal)\n",
    "        cla.fit(self.x_train, self.y_train, eval_set=[(self.x_train, self.y_train), (self.x_test, self.y_test)],**para['fit_params'])\n",
    "\n",
    "        pred = cla.predict(self.x_test)\n",
    "        score = para['loss_func'](self.y_test, pred)\n",
    "    \n",
    "        return score\n",
    "\n",
    "    def xgb_cla(self, para):\n",
    "        cla = xgb.XGBClassifier(**para['cla_params'])\n",
    "        return self.train_class(cla, para)\n",
    "    \n",
    "    def xgb_cv(self, para):\n",
    "        cla_cv = xgb.cv(dtrain=self.dtrain, params=para['cv_params'], nfold=5, num_boost_round=30,\n",
    "                       early_stopping_rounds = 10, metrics='auc')\n",
    "        return self.train_cla_cv(cla_cv, para)\n",
    "\n",
    "    def train_class(self, cla, para):\n",
    "        cla.fit(self.x_train, self.y_train,\n",
    "                eval_set=[(self.x_train, self.y_train), (self.x_test, self.y_test)],\n",
    "                **para['fit_params'])\n",
    "        pred = cla.predict(self.x_test)\n",
    "        score = para['loss_func'](self.y_test, pred)\n",
    "        loss = 1 - score\n",
    "        return {'loss': loss, 'status': STATUS_OK}\n",
    "    \n",
    "    def train_cla_cv(self, cross_v, para):\n",
    "        num_rounds = len(cross_v[\"test-auc-mean\"])\n",
    "        cv_result = cross_v[\"test-auc-mean\"][num_rounds - 1]\n",
    "        loss = 1- cv_result\n",
    "        return {'loss': loss, 'status': STATUS_OK}"
   ]
  },
  {
   "cell_type": "code",
   "execution_count": 7,
   "metadata": {},
   "outputs": [
    {
     "name": "stdout",
     "output_type": "stream",
     "text": [
      "100%|██████████| 100/100 [02:50<00:00,  1.70s/trial, best loss: 0.19195183395039705]\n",
      "100%|██████████| 100/100 [11:47<00:00,  7.07s/trial, best loss: 0.09611559999999986]\n"
     ]
    }
   ],
   "source": [
    "obj = HPOpt(x_train, x_test, y_train, y_test)\n",
    "\n",
    "\n",
    "xgb_opt_class = obj.process(\n",
    "    fn_name=\"xgb_cla\", space=xgb_para, trials=Trials(), algo=tpe.suggest, max_evals=100\n",
    ")\n",
    "xgb_opt_cv = obj.process(\n",
    "    fn_name=\"xgb_cv\", space=xgb_para, trials=Trials(), algo=tpe.suggest, max_evals=100\n",
    ")"
   ]
  },
  {
   "cell_type": "markdown",
   "metadata": {},
   "source": [
    "# Test Score"
   ]
  },
  {
   "cell_type": "code",
   "execution_count": 11,
   "metadata": {},
   "outputs": [
    {
     "data": {
      "text/plain": [
       "0.808048166049603"
      ]
     },
     "execution_count": 11,
     "metadata": {},
     "output_type": "execute_result"
    }
   ],
   "source": [
    "optimal_hp, trials = xgb_opt_class\n",
    "optim_class = space_eval(xgb_para['cla_params'], optimal_hp)\n",
    "\n",
    "obj.xgb_test(optim_class, xgb_para)"
   ]
  },
  {
   "cell_type": "code",
   "execution_count": 13,
   "metadata": {},
   "outputs": [
    {
     "data": {
      "text/plain": [
       "0.806816353813445"
      ]
     },
     "execution_count": 13,
     "metadata": {},
     "output_type": "execute_result"
    }
   ],
   "source": [
    "optimal_hp, trials = xgb_opt_cv\n",
    "optim_cv = space_eval(xgb_para['cv_params'], optimal_hp)\n",
    "\n",
    "obj.xgb_test(optim_cv, xgb_para)"
   ]
  },
  {
   "cell_type": "markdown",
   "metadata": {},
   "source": [
    "# Grid Search"
   ]
  },
  {
   "cell_type": "code",
   "execution_count": 16,
   "metadata": {},
   "outputs": [],
   "source": [
    "from sklearn.model_selection import GridSearchCV\n",
    "\n",
    "xgb_clf = xgb.XGBClassifier()\n",
    "\n",
    "xgb_param_grid = {\n",
    "    'tree_method':      ['gpu_hist'],\n",
    "    'booster':          ['gbtree', 'dart'],\n",
    "    'learning_rate':    np.arange(0.05, 0.31, 0.05),\n",
    "    'max_depth':        np.arange(5, 16, 1, dtype=int),\n",
    "    'min_child_weight': np.arange(1, 8, 1, dtype=int),\n",
    "    'colsample_bytree': np.arange(0.3, 0.8, 0.1),\n",
    "    'colsample_bylevel':np.arange(0.3, 0.8, 0.1),\n",
    "    'colsample_bynode': np.arange(0.3, 0.8, 0.1),\n",
    "    'subsample':        np.arange(0.5, 1, 0.1),\n",
    "    'sampling_method':  ['uniform', 'gradient_based'],\n",
    "    'n_estimators':     [30],\n",
    "    'objective':        ['binary:logistic'],\n",
    "}"
   ]
  },
  {
   "cell_type": "code",
   "execution_count": 17,
   "metadata": {},
   "outputs": [],
   "source": [
    "hr_grid = GridSearchCV(estimator=xgb_clf,\n",
    "                       param_grid=xgb_param_grid,\n",
    "                       scoring='roc_auc',\n",
    "                       n_jobs=8,\n",
    "                       cv=5,\n",
    "                       refit=True, \n",
    "                       return_train_score=True)"
   ]
  },
  {
   "cell_type": "code",
   "execution_count": null,
   "metadata": {},
   "outputs": [],
   "source": [
    "hr_grid.fit(x_train, y_train)"
   ]
  },
  {
   "cell_type": "code",
   "execution_count": null,
   "metadata": {},
   "outputs": [],
   "source": [
    "## 최고성능\n",
    "best_score = hr_grid.best_score_\n",
    "# 최고성능을 내는 행을 찾아냄\n",
    "best_row = hr_grid.best_index_"
   ]
  },
  {
   "cell_type": "markdown",
   "metadata": {},
   "source": [
    "# Random Search"
   ]
  },
  {
   "cell_type": "code",
   "execution_count": null,
   "metadata": {},
   "outputs": [],
   "source": [
    "xgb_clf = xgb.XGBClassifier()\n",
    "\n",
    "xgb_param_grid = {\n",
    "    'tree_method':      ['gpu_hist'],\n",
    "    'booster':          ['gbtree', 'dart'],\n",
    "    'learning_rate':    np.arange(0.05, 0.31, 0.05),\n",
    "    'max_depth':        np.arange(5, 16, 1, dtype=int),\n",
    "    'min_child_weight': np.arange(1, 8, 1, dtype=int),\n",
    "    'colsample_bytree': np.arange(0.3, 0.8, 0.1),\n",
    "    'colsample_bylevel':np.arange(0.3, 0.8, 0.1),\n",
    "    'colsample_bynode': np.arange(0.3, 0.8, 0.1),\n",
    "    'subsample':        np.arange(0.5, 1, 0.1),\n",
    "    'sampling_method':  ['uniform', 'gradient_based'],\n",
    "    'n_estimators':     [30],\n",
    "    'objective':        ['binary:logistic'],\n",
    "}\n",
    "\n",
    "# Create a random search object\n",
    "xgb_random = RandomizedSearchCV(estimator = xgb_clf,\n",
    "                                param_distributions = xgb_param_grid,\n",
    "                                n_iter = 10,\n",
    "                                scoring='roc_auc', \n",
    "                                n_jobs=8, \n",
    "                                cv = 3, \n",
    "                                refit=True, \n",
    "                                return_train_score = True)"
   ]
  },
  {
   "cell_type": "code",
   "execution_count": null,
   "metadata": {},
   "outputs": [],
   "source": [
    "xgb_random.fit(X_train, y_train)"
   ]
  },
  {
   "cell_type": "code",
   "execution_count": null,
   "metadata": {},
   "outputs": [],
   "source": []
  }
 ],
 "metadata": {
  "kernelspec": {
   "display_name": "xgb",
   "language": "python",
   "name": "xgb"
  },
  "language_info": {
   "codemirror_mode": {
    "name": "ipython",
    "version": 3
   },
   "file_extension": ".py",
   "mimetype": "text/x-python",
   "name": "python",
   "nbconvert_exporter": "python",
   "pygments_lexer": "ipython3",
   "version": "3.7.6"
  },
  "toc": {
   "base_numbering": 1,
   "nav_menu": {},
   "number_sections": true,
   "sideBar": true,
   "skip_h1_title": false,
   "title_cell": "Table of Contents",
   "title_sidebar": "Contents",
   "toc_cell": false,
   "toc_position": {},
   "toc_section_display": true,
   "toc_window_display": false
  }
 },
 "nbformat": 4,
 "nbformat_minor": 4
}
